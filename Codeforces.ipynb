{
 "cells": [
  {
   "cell_type": "code",
   "execution_count": 1,
   "metadata": {},
   "outputs": [],
   "source": [
    "from bs4 import BeautifulSoup as bs\n",
    "import urllib.request as ur\n"
   ]
  },
  {
   "cell_type": "code",
   "execution_count": 2,
   "metadata": {},
   "outputs": [
    {
     "name": "stdout",
     "output_type": "stream",
     "text": [
      "\r\n",
      "<!DOCTYPE HTML PUBLIC \"-//W3C//DTD HTML 4.01//EN\">\r\n",
      "<html>\r\n",
      "<head>\r\n",
      "    <meta http-equiv=\"content-type\" content=\"text/html; charset=UTF-8\">\n",
      "    <meta name=\"X-Csrf-Token\" content=\"c25cd1ba9bcd6861570f694e8c32cb69\"/>\r\n",
      "    <meta id=\"viewport\" name=\"viewport\" content=\"width=device-width, initial-scale=0.01\"/>\r\n",
      "    <script type=\"text/javascript\" src=\"//sta.codeforces.com/s/35242/js/jquery-1.8.3.js\"></script>\r\n",
      "    <script type=\"application/javascript\">\r\n",
      "        window.standaloneContest = false;\r\n",
      "        function adjustViewport() {\r\n",
      "            var screenWidthPx = Math.min($(window).width(), window.screen.width);\r\n",
      "            var siteWidthPx = 1100; // min width of site\r\n",
      "            var ratio = Math.min(screenWidthPx / siteWidthPx, 1.0);\r\n",
      "            var viewport = \"width=device-width, initial-scale=\" + ratio;\r\n",
      "            $('#viewport').attr('content', viewport);\r\n",
      "            var style = $('<style>html * { max-height: 1000000px; }</style>');\r\n",
      "            $('html > head').append(style);\r\n",
      "  \n"
     ]
    }
   ],
   "source": [
    "fp = ur.urlopen(\"https://codeforces.com/contest/1141\")\n",
    "mypage = fp.read()\n",
    "mystr = mypage.decode(\"utf8\")\n",
    "fp.close()\n",
    "print(mystr[:1000])"
   ]
  },
  {
   "cell_type": "code",
   "execution_count": 5,
   "metadata": {},
   "outputs": [
    {
     "name": "stdout",
     "output_type": "stream",
     "text": [
      "<!DOCTYPE HTML PUBLIC \"-//W3C//DTD HTML 4.01//EN\">\n",
      "<html>\n",
      " <head>\n",
      "  <meta content=\"text/html; charset=utf-8\" http-equiv=\"content-type\"/>\n",
      "  <meta content=\"c25cd1ba9bcd6861570f694e8c32cb69\" name=\"X-Csrf-Token\">\n",
      "   <meta content=\"width=device-width, initial-scale=0.01\" id=\"viewport\" name=\"viewport\"/>\n",
      "   <script src=\"//sta.codeforces.com/s/35242/js/jquery-1.8.3.js\" type=\"text/javascript\">\n",
      "   </script>\n",
      "   <script type=\"application/javascript\">\n",
      "    window.standaloneContest = false;\r\n",
      "        function adjustViewport() {\r\n",
      "            var screenWidthPx = Math.min($(window).width(), window.screen.width);\r\n",
      "            var siteWidthPx = 1100; // min width of site\r\n",
      "            var ratio = Math.min(screenWidthPx / siteWidthPx, 1.0);\r\n",
      "            var viewport = \"width=device-width, initial-scale=\" + ratio;\r\n",
      "            $('#viewport').attr('content', viewport);\r\n",
      "            var style = $('<style>html * { max-height: 1000000px; }</style>');\r\n",
      "            $('html > head').append(style);\r\n",
      "        }\r\n",
      "\r\n",
      "    \n"
     ]
    }
   ],
   "source": [
    "soup = bs(mystr, 'html.parser')\n",
    "print(soup.prettify()[:1000])"
   ]
  },
  {
   "cell_type": "code",
   "execution_count": 8,
   "metadata": {},
   "outputs": [],
   "source": [
    "import requests\n"
   ]
  },
  {
   "cell_type": "code",
   "execution_count": 31,
   "metadata": {},
   "outputs": [
    {
     "name": "stdout",
     "output_type": "stream",
     "text": [
      "Total red coders in india : 15\n",
      "Legendary Grandmasters in India:\n",
      "\n",
      "International Grandmasters in India:\n",
      "\n",
      "RajatDe (handle: rajat1603)\n",
      "Grandmasters in India:\n",
      "\n",
      "AmitSwami (handle: amit_swami)\n",
      "SumeetVarma (handle: Sumeet.Varma)\n",
      "TanujKhattar (handle: Baba)\n",
      "JeelVaishnav (handle: Jeel_Vaishnav)\n",
      "HanitBanga (handle: cerberus97)\n",
      "PranjalShankhdhar (handle: evil666man)\n",
      "YashChandnani (handle: yashChandnani)\n",
      "AtanuChakraborty (handle: alecsyde)\n",
      "Teja VardhanReddy (handle: teja349)\n",
      "AkashdeepNain (handle: akashdeep)\n",
      "RudradevBasak (handle: rudradevbasak)\n",
      "AkulSareen (handle: akulsareen)\n",
      "JatinYadav (handle: jtnydv25)\n",
      "suryakiran (handle: adurysk)\n"
     ]
    }
   ],
   "source": [
    "import requests\n",
    "import json\n",
    "url = \"https://codeforces.com/api/user.ratedList\"\n",
    "contest_link = \"https://codeforces.com/contest/\"\n",
    "page = requests.get(url)\n",
    "x= dict()\n",
    "x= page.json()\n",
    "grandmaster=[]###2400\n",
    "international_grandmaster=[]##2600\n",
    "legendary_grandmaster =[]##3000\n",
    "international_master=[]##2300\n",
    "master=[]#2100\n",
    "candidate_master=[]#1900\n",
    "for item in x['result']:\n",
    "    if 'country' in item:\n",
    "        if item['country'] == 'India':\n",
    "            if item['maxRating'] >= 3000:\n",
    "                name = item['firstName']+item['lastName']+' (handle: '+item['handle'] +')'\n",
    "                legendary_grandmaster.append(name)\n",
    "            elif item['maxRating'] >= 2600 and item['maxRating'] < 3000:\n",
    "                name = item['firstName']+item['lastName']+' (handle: '+item['handle'] +')'\n",
    "                international_grandmaster.append(name)\n",
    "            elif item['maxRating'] >= 2400 and item['maxRating'] < 2600:\n",
    "                name = item['firstName']+item['lastName']+' (handle: '+item['handle'] +')'\n",
    "                grandmaster.append(name)\n",
    "#         elif item['maxRating'] >= 2300\n",
    "#             name = item['firstName']+item['lastName']+' (handle: '+item['handle'] +')'\n",
    "#             grandmaster.append(name)\n",
    "    \n",
    "print('Total red coders in india :', len(legendary_grandmaster)+len(international_grandmaster) + len(grandmaster))\n",
    "print('Legendary Grandmasters in India:')\n",
    "print()\n",
    "for _ in legendary_grandmaster:\n",
    "    print(_)\n",
    "print('International Grandmasters in India:')\n",
    "print()\n",
    "for _ in international_grandmaster:\n",
    "    print(_)\n",
    "print('Grandmasters in India:')\n",
    "print()\n",
    "for _ in grandmaster:\n",
    "    print(_)\n"
   ]
  },
  {
   "cell_type": "code",
   "execution_count": null,
   "metadata": {},
   "outputs": [],
   "source": []
  }
 ],
 "metadata": {
  "kernelspec": {
   "display_name": "Python 3",
   "language": "python",
   "name": "python3"
  },
  "language_info": {
   "codemirror_mode": {
    "name": "ipython",
    "version": 3
   },
   "file_extension": ".py",
   "mimetype": "text/x-python",
   "name": "python",
   "nbconvert_exporter": "python",
   "pygments_lexer": "ipython3",
   "version": "3.7.2"
  }
 },
 "nbformat": 4,
 "nbformat_minor": 2
}
